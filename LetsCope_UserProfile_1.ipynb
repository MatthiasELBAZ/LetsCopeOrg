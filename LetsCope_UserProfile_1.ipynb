{
 "cells": [
  {
   "cell_type": "code",
   "execution_count": 2,
   "metadata": {},
   "outputs": [],
   "source": [
    "import nest_asyncio\n",
    "\n",
    "nest_asyncio.apply()\n",
    "\n",
    "from llama_index.llms.openai import OpenAI\n",
    "from llama_index.agent.openai import OpenAIAgent\n",
    "from llama_index.core import Document, SimpleDirectoryReader, VectorStoreIndex\n",
    "from llama_index.core.tools import QueryEngineTool, ToolMetadata, FunctionTool\n",
    "from llama_index.core.node_parser import SentenceSplitter\n",
    "from llama_index.readers.file import UnstructuredReader\n",
    "from pathlib import Path\n",
    "from llama_index.readers.json import JSONReader\n",
    "from llama_index.core.node_parser import JSONNodeParser\n",
    "\n",
    "\n",
    "import pandas as pd"
   ]
  },
  {
   "cell_type": "markdown",
   "metadata": {},
   "source": [
    "# LLM"
   ]
  },
  {
   "cell_type": "code",
   "execution_count": 3,
   "metadata": {},
   "outputs": [],
   "source": [
    "llm = OpenAI(model=\"gpt-3.5-turbo\")"
   ]
  },
  {
   "cell_type": "markdown",
   "metadata": {},
   "source": [
    "# Data For UserProfile"
   ]
  },
  {
   "cell_type": "markdown",
   "metadata": {},
   "source": [
    "## Content"
   ]
  },
  {
   "cell_type": "code",
   "execution_count": 4,
   "metadata": {},
   "outputs": [],
   "source": [
    "data_content_filepath = \"./data/data_content/df_content_description_programid.csv\"\n",
    "data_content = pd.read_csv(data_content_filepath)\n",
    "data_content_documents = [\n",
    "    Document(\n",
    "        text=row['description'],\n",
    "        metadata={\n",
    "            'ID': row['id'],\n",
    "            'Type': row['tipo'],\n",
    "            'ProgramID': row['program_id'],\n",
    "            'Author': row['autor'],\n",
    "            'Title': row['title'],\n",
    "            'Section': row['seccion'],\n",
    "            'Category': row['categoria'],\n",
    "            'URL': row['video_url'],\n",
    "        }\n",
    "    )\n",
    "    for _, row in data_content.iterrows()\n",
    "]"
   ]
  },
  {
   "cell_type": "markdown",
   "metadata": {},
   "source": [
    "## Membership"
   ]
  },
  {
   "cell_type": "code",
   "execution_count": 46,
   "metadata": {},
   "outputs": [],
   "source": [
    "reader = JSONReader()\n",
    "data_membership_documents = reader.load_data(input_file=\"./data/data_membership/dict_membership.json\")"
   ]
  },
  {
   "cell_type": "markdown",
   "metadata": {},
   "source": [
    "## Quiz"
   ]
  },
  {
   "cell_type": "code",
   "execution_count": 45,
   "metadata": {},
   "outputs": [],
   "source": [
    "reader = JSONReader()\n",
    "data_quiz_documents = reader.load_data(input_file=\"./data/data_quiz/quiz_dict.json\")"
   ]
  },
  {
   "cell_type": "markdown",
   "metadata": {},
   "source": [
    "## Program"
   ]
  },
  {
   "cell_type": "code",
   "execution_count": 40,
   "metadata": {},
   "outputs": [],
   "source": [
    "reader = SimpleDirectoryReader(input_dir=\"./data/data_articles/\")\n",
    "data_program_documents = reader.load_data()\n",
    "splitter = SentenceSplitter(chunk_size=256, chunk_overlap=20)\n",
    "data_program_nodes = splitter.get_nodes_from_documents(data_program_documents)"
   ]
  },
  {
   "cell_type": "markdown",
   "metadata": {},
   "source": [
    "## Website"
   ]
  },
  {
   "cell_type": "code",
   "execution_count": 41,
   "metadata": {},
   "outputs": [],
   "source": [
    "# get all names of html file in forlder data/data_website in a list\n",
    "data_website_dir = Path(\"./data/data_website/\")\n",
    "html_page_names = []\n",
    "for file in data_website_dir.iterdir():\n",
    "    if file.suffix == \".html\":\n",
    "        html_page_names.append(file.stem)\n",
    "        \n",
    "\n",
    "loader = UnstructuredReader()\n",
    "html_page_doc_set = {}\n",
    "html_page_all_docs = []\n",
    "for html_page in html_page_names:\n",
    "    html_page_docs = loader.load_data(file=Path(f\"./data/data_website/{html_page}.html\"), split_documents=False)\n",
    "\n",
    "    # insert year metadata into each year\n",
    "    for d in html_page_docs:\n",
    "        d.metadata = {\"html_page\": html_page}\n",
    "    html_page_doc_set[html_page] = html_page_docs\n",
    "    html_page_all_docs.extend(html_page_docs)\n",
    "\n",
    "splitter = SentenceSplitter(chunk_size=256, chunk_overlap=20)\n",
    "data_website_nodes = splitter.get_nodes_from_documents(html_page_all_docs)"
   ]
  },
  {
   "cell_type": "code",
   "execution_count": null,
   "metadata": {},
   "outputs": [
    {
     "data": {
      "text/plain": [
       "29"
      ]
     },
     "metadata": {},
     "output_type": "display_data"
    }
   ],
   "source": [
    "len(data_website_nodes)"
   ]
  },
  {
   "cell_type": "markdown",
   "metadata": {},
   "source": [
    "# Indexing"
   ]
  },
  {
   "cell_type": "markdown",
   "metadata": {},
   "source": [
    "## Content"
   ]
  },
  {
   "cell_type": "code",
   "execution_count": 42,
   "metadata": {},
   "outputs": [],
   "source": [
    "data_content_index = VectorStoreIndex.from_documents(data_content_documents)\n",
    "data_content_query_engine = data_content_index.as_query_engine()\n",
    "data_content_query_retiever = data_content_index.as_retriever(similarity_top_k=5)"
   ]
  },
  {
   "cell_type": "markdown",
   "metadata": {},
   "source": [
    "## Membership"
   ]
  },
  {
   "cell_type": "code",
   "execution_count": 43,
   "metadata": {},
   "outputs": [],
   "source": [
    "data_membership_index = VectorStoreIndex.from_documents(data_membership_documents)\n",
    "data_membership_query_engine = data_membership_index.as_query_engine()\n",
    "data_membership_query_retiever = data_membership_index.as_retriever(similarity_top_k=5)"
   ]
  },
  {
   "cell_type": "markdown",
   "metadata": {},
   "source": [
    "## Quiz"
   ]
  },
  {
   "cell_type": "code",
   "execution_count": 47,
   "metadata": {},
   "outputs": [],
   "source": [
    "data_quiz_index = VectorStoreIndex.from_documents(data_quiz_documents)\n",
    "data_quiz_query_engine = data_quiz_index.as_query_engine()\n",
    "data_quiz_query_retiever = data_quiz_index.as_retriever(similarity_top_k=5)"
   ]
  },
  {
   "cell_type": "markdown",
   "metadata": {},
   "source": [
    "## Program"
   ]
  },
  {
   "cell_type": "code",
   "execution_count": 48,
   "metadata": {},
   "outputs": [],
   "source": [
    "data_program_index = VectorStoreIndex(data_program_nodes)\n",
    "data_program_query_engine = data_program_index.as_query_engine()\n",
    "data_program_query_retriever = data_program_index.as_retriever(similarity_top_k=5)"
   ]
  },
  {
   "cell_type": "markdown",
   "metadata": {},
   "source": [
    "## Website"
   ]
  },
  {
   "cell_type": "code",
   "execution_count": 49,
   "metadata": {},
   "outputs": [],
   "source": [
    "data_website_index = VectorStoreIndex.from_documents(html_page_all_docs)\n",
    "data_website_query_engine = data_website_index.as_query_engine()\n",
    "data_website_query_retriever = data_website_index.as_retriever(similarity_top_k=5)"
   ]
  },
  {
   "cell_type": "markdown",
   "metadata": {},
   "source": [
    "# Tools"
   ]
  },
  {
   "cell_type": "code",
   "execution_count": 50,
   "metadata": {},
   "outputs": [],
   "source": [
    "data_content_query_engine_tool = QueryEngineTool(\n",
    "    query_engine=data_content_query_engine,\n",
    "    metadata=ToolMetadata(\n",
    "        name=\"data_content_query_engine\",\n",
    "        description=\"A RAG engine with information about video for mental health made by specialists.\"\n",
    "    )     \n",
    ")\n",
    "\n",
    "data_membership_query_engine_tool = QueryEngineTool(\n",
    "    query_engine=data_membership_query_engine,\n",
    "    metadata=ToolMetadata(\n",
    "        name=\"data_membership_query_engine\",\n",
    "        description=\"A RAG engine with information about membership for mental health made by specialists.\"\n",
    "    )     \n",
    ")\n",
    "\n",
    "data_quiz_query_engine_tool = QueryEngineTool(\n",
    "    query_engine=data_quiz_query_engine,\n",
    "    metadata=ToolMetadata(\n",
    "        name=\"data_quiz_query_engine\",\n",
    "        description=\"A RAG engine with information about quiz for mental health made by specialists.\"\n",
    "    )     \n",
    ")\n",
    "\n",
    "data_program_query_engine_tool = QueryEngineTool(\n",
    "    query_engine=data_program_query_engine,\n",
    "    metadata=ToolMetadata(\n",
    "        name=\"data_program_query_engine\",\n",
    "        description=\"A RAG engine with information about programs for mental health made by specialists.\"\n",
    "    )     \n",
    ")\n",
    "\n",
    "data_website_query_engine_tool = QueryEngineTool(\n",
    "    query_engine=data_website_query_engine,\n",
    "    metadata=ToolMetadata(\n",
    "        name=\"data_website_query_engine\",\n",
    "        description=\"A RAG engine with information about LetsCope.org website that offer services to user for helping them to cope with mental health issues.\"\n",
    "    )     \n",
    ")"
   ]
  },
  {
   "cell_type": "code",
   "execution_count": 51,
   "metadata": {},
   "outputs": [],
   "source": [
    "tools = [data_content_query_engine_tool, data_membership_query_engine_tool, data_quiz_query_engine_tool, data_program_query_engine_tool, data_website_query_engine_tool]"
   ]
  },
  {
   "cell_type": "code",
   "execution_count": 59,
   "metadata": {},
   "outputs": [],
   "source": [
    "openai_agent = OpenAIAgent.from_tools(\n",
    "    tools, \n",
    "    llm=llm, \n",
    "    verbose=True,\n",
    "    system_prompt=\"You are helpful assistant that of the website LetsCope.org. You are asked to provide a user profile from a given user information dictionary and all tools in your possession. You are also asked to provide a response to a user query from a given user query and all tools in your possession.\"\n",
    ")"
   ]
  },
  {
   "cell_type": "code",
   "execution_count": 60,
   "metadata": {},
   "outputs": [],
   "source": [
    "# read user information dictionary from json file\n",
    "import json\n",
    "with open(\"./data/data_user/r3h5KzAFj1N0LDqW8aJciUuDRBH2/dict_user.json\", \"r\") as f:\n",
    "    user_info = json.load(f)"
   ]
  },
  {
   "cell_type": "code",
   "execution_count": 61,
   "metadata": {},
   "outputs": [
    {
     "data": {
      "text/plain": [
       "{'user_uid': 'r3h5KzAFj1N0LDqW8aJciUuDRBH2',\n",
       " 'quiz_submitted': [{'dev_cope_customer_uid': 'r3h5KzAFj1N0LDqW8aJciUuDRBH2',\n",
       "   'dev_cope_quiz_submit_quiz_id': 1,\n",
       "   'dev_cope_quiz_submit_data': '[{\"value\": \"1\", \"question_id\": 1}, {\"value\": \"0\", \"question_id\": 2}, {\"value\": \"2\", \"question_id\": 3}, {\"value\": \"2\", \"question_id\": 4}, {\"value\": \"2\", \"question_id\": 5}, {\"value\": \"0\", \"question_id\": 6}, {\"value\": \"2\", \"question_id\": 7}, {\"value\": \"2\", \"question_id\": 8}, {\"value\": \"1\", \"question_id\": 9}]',\n",
       "   'dev_cope_quiz_submit_score': 12.0,\n",
       "   'dev_cope_quiz_submit_date': '2024-07-20 22:03:13'}],\n",
       " 'content_watched': [{'dev_cope_customer_uid': 'r3h5KzAFj1N0LDqW8aJciUuDRBH2',\n",
       "   'dev_cope_content_id': 339.0},\n",
       "  {'dev_cope_customer_uid': 'r3h5KzAFj1N0LDqW8aJciUuDRBH2',\n",
       "   'dev_cope_content_id': 129.0},\n",
       "  {'dev_cope_customer_uid': 'r3h5KzAFj1N0LDqW8aJciUuDRBH2',\n",
       "   'dev_cope_content_id': 299.0}],\n",
       " 'membership': [{'dev_cope_customer_uid': 'r3h5KzAFj1N0LDqW8aJciUuDRBH2',\n",
       "   'dev_cope_membership_id': 1,\n",
       "   'dev_cope_membership_trx_info': '{\"cost\": 9, \"name\": \"Main subscription\", \"period\": \"monthly\", \"stripe_url\": \"https://buy.stripe.com/5kAdSg3Sh2yqcAU144\", \"description\": \"14 days free trial, and then 9$ a month\", \"free_trials_days\": 14, \"stripe_button_id\": \"buy_btn_1NnOUoHR2YjQ1Zme78d8pZwC\"}',\n",
       "   'dev_cope_membership_trx_start': '2024-07-20 21:24:36',\n",
       "   'dev_cope_membership_trx_next': '2024-08-10 09:27:12'}]}"
      ]
     },
     "execution_count": 61,
     "metadata": {},
     "output_type": "execute_result"
    }
   ],
   "source": [
    "user_info"
   ]
  },
  {
   "cell_type": "code",
   "execution_count": 62,
   "metadata": {},
   "outputs": [
    {
     "name": "stdout",
     "output_type": "stream",
     "text": [
      "Added user message to memory: {'user_uid': 'r3h5KzAFj1N0LDqW8aJciUuDRBH2', 'quiz_submitted': [{'dev_cope_customer_uid': 'r3h5KzAFj1N0LDqW8aJciUuDRBH2', 'dev_cope_quiz_submit_quiz_id': 1, 'dev_cope_quiz_submit_data': '[{\"value\": \"1\", \"question_id\": 1}, {\"value\": \"0\", \"question_id\": 2}, {\"value\": \"2\", \"question_id\": 3}, {\"value\": \"2\", \"question_id\": 4}, {\"value\": \"2\", \"question_id\": 5}, {\"value\": \"0\", \"question_id\": 6}, {\"value\": \"2\", \"question_id\": 7}, {\"value\": \"2\", \"question_id\": 8}, {\"value\": \"1\", \"question_id\": 9}]', 'dev_cope_quiz_submit_score': 12.0, 'dev_cope_quiz_submit_date': '2024-07-20 22:03:13'}], 'content_watched': [{'dev_cope_customer_uid': 'r3h5KzAFj1N0LDqW8aJciUuDRBH2', 'dev_cope_content_id': 339.0}, {'dev_cope_customer_uid': 'r3h5KzAFj1N0LDqW8aJciUuDRBH2', 'dev_cope_content_id': 129.0}, {'dev_cope_customer_uid': 'r3h5KzAFj1N0LDqW8aJciUuDRBH2', 'dev_cope_content_id': 299.0}], 'membership': [{'dev_cope_customer_uid': 'r3h5KzAFj1N0LDqW8aJciUuDRBH2', 'dev_cope_membership_id': 1, 'dev_cope_membership_trx_info': '{\"cost\": 9, \"name\": \"Main subscription\", \"period\": \"monthly\", \"stripe_url\": \"https://buy.stripe.com/5kAdSg3Sh2yqcAU144\", \"description\": \"14 days free trial, and then 9$ a month\", \"free_trials_days\": 14, \"stripe_button_id\": \"buy_btn_1NnOUoHR2YjQ1Zme78d8pZwC\"}', 'dev_cope_membership_trx_start': '2024-07-20 21:24:36', 'dev_cope_membership_trx_next': '2024-08-10 09:27:12'}]}\n"
     ]
    }
   ],
   "source": [
    "response = openai_agent.chat(str(user_info))"
   ]
  },
  {
   "cell_type": "code",
   "execution_count": 64,
   "metadata": {},
   "outputs": [
    {
     "name": "stdout",
     "output_type": "stream",
     "text": [
      "### User Profile:\n",
      "- **User ID:** r3h5KzAFj1N0LDqW8aJciUuDRBH2\n",
      "- **Quiz Submitted:**\n",
      "  - **Quiz ID:** 1\n",
      "  - **Score:** 12.0\n",
      "  - **Date Submitted:** 2024-07-20 22:03:13\n",
      "  - **Quiz Data:**\n",
      "    - Question 1: 1\n",
      "    - Question 2: 0\n",
      "    - Question 3: 2\n",
      "    - Question 4: 2\n",
      "    - Question 5: 2\n",
      "    - Question 6: 0\n",
      "    - Question 7: 2\n",
      "    - Question 8: 2\n",
      "    - Question 9: 1\n",
      "- **Content Watched:**\n",
      "  - Content ID 339.0\n",
      "  - Content ID 129.0\n",
      "  - Content ID 299.0\n",
      "- **Membership:**\n",
      "  - **Membership ID:** 1\n",
      "  - **Subscription Name:** Main subscription\n",
      "  - **Subscription Cost:** $9\n",
      "  - **Subscription Period:** Monthly\n",
      "  - **Free Trial Days:** 14\n",
      "  - **Subscription Start Date:** 2024-07-20 21:24:36\n",
      "  - **Next Payment Date:** 2024-08-10 09:27:12\n",
      "  - **Subscription Description:** 14 days free trial, and then $9 a month\n",
      "  - **Stripe URL:** [Link](https://buy.stripe.com/5kAdSg3Sh2yqcAU144)\n",
      "  - **Stripe Button ID:** buy_btn_1NnOUoHR2YjQ1Zme78d8pZwC\n",
      "\n",
      "### How can I assist you today?\n"
     ]
    }
   ],
   "source": [
    "print(response.response)"
   ]
  },
  {
   "cell_type": "code",
   "execution_count": null,
   "metadata": {},
   "outputs": [],
   "source": []
  }
 ],
 "metadata": {
  "kernelspec": {
   "display_name": "base",
   "language": "python",
   "name": "python3"
  },
  "language_info": {
   "codemirror_mode": {
    "name": "ipython",
    "version": 3
   },
   "file_extension": ".py",
   "mimetype": "text/x-python",
   "name": "python",
   "nbconvert_exporter": "python",
   "pygments_lexer": "ipython3",
   "version": "3.9.13"
  }
 },
 "nbformat": 4,
 "nbformat_minor": 2
}
